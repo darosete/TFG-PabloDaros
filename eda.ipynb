{
 "cells": [
  {
   "cell_type": "markdown",
   "metadata": {},
   "source": [
    "# Trabajo de Fin de Grado: Aplicación de Inteligencia artificial a la predicción de los efectos de la radiación en sistemas digitales complejos\n",
    "\n",
    "### Pablo Darós Pallarés"
   ]
  },
  {
   "cell_type": "code",
   "execution_count": 2,
   "metadata": {},
   "outputs": [],
   "source": [
    "import pandas as pd\n",
    "from sklearn.feature_extraction.text import TfidfVectorizer\n",
    "from sklearn.cluster import KMeans"
   ]
  },
  {
   "cell_type": "code",
   "execution_count": 4,
   "metadata": {},
   "outputs": [
    {
     "name": "stdout",
     "output_type": "stream",
     "text": [
      "(4159, 22)\n"
     ]
    }
   ],
   "source": [
    "df = pd.read_csv('data/radecs_complete_data.csv', delimiter=\";\")\n",
    "\n",
    "print(df.shape)"
   ]
  },
  {
   "cell_type": "markdown",
   "metadata": {},
   "source": [
    "En este codigo se busca crear columnas nuevas con variables categóricas para cada SEE. Este acercamiento resultó ser innecesario, ya que un componente puede sufrir varios SEE a la vez. "
   ]
  },
  {
   "cell_type": "code",
   "execution_count": null,
   "metadata": {},
   "outputs": [],
   "source": [
    "df = pd.read_csv('data/radecs_complete_data.csv', delimiter=\";\")\n",
    "\n",
    "# Encontrar los valores posibles de cada SEE\n",
    "see_columns = ['SEU', 'SET', 'SEFI', 'SEL', 'SEB', 'SEGR']\n",
    "for column in see_columns:\n",
    "    unique_combinations = df[[column]].apply(lambda row: '_'.join(row.dropna().values), axis=1).unique()\n",
    "    unique_combinations = [combo for combo in unique_combinations if combo]\n",
    "\n",
    "    print(column, \"nº of elements: \", len(unique_combinations), '\\n combinations: ', unique_combinations)\n",
    "\n",
    "# Cada valor del SEE tiene un numero asignado\n",
    "seu_mapping = {\n",
    "    'Alpha': 0,\n",
    "    'e': 1,\n",
    "    'H': 2,\n",
    "    'H,P': 3,\n",
    "    'H,L': 4,\n",
    "    'H,N,P': 5,\n",
    "    'H,N': 6,\n",
    "    'L': 7,\n",
    "    'L,H': 8,\n",
    "    'N': 9,\n",
    "    'P': 10,\n",
    "    'P,Alpha': 11,\n",
    "    'P,N': 12,\n",
    "    'P,N,Alpha': 13\n",
    "}\n",
    "\n",
    "set_mapping = {\n",
    "    'H': 14,\n",
    "    'P': 15,\n",
    "    'H,N': 16,\n",
    "    'N': 17,\n",
    "    'H,P': 18,\n",
    "    'H,L': 19,\n",
    "    'L': 20,\n",
    "    'L,P': 21\n",
    "}\n",
    "\n",
    "sefi_mapping = {\n",
    "    'H': 22,\n",
    "    'P': 23,\n",
    "    'H,N': 24,\n",
    "    'N': 25,\n",
    "    'P,N': 26,\n",
    "    'H,P': 27,\n",
    "    'H,L': 28,\n",
    "    'H,N,P': 29,\n",
    "    'H,P,L': 30\n",
    "}\n",
    "\n",
    "sel_mapping = {\n",
    "    'H': 31,\n",
    "    'P': 32,\n",
    "    'H,N': 33,\n",
    "    'H,P': 34,\n",
    "    'N': 35,\n",
    "    'P,N': 36,\n",
    "    'H,L': 37,\n",
    "    'H,P,N': 38,\n",
    "    'L': 39\n",
    "}\n",
    "\n",
    "seb_mapping = {\n",
    "    'H': 40,\n",
    "    'P': 41,\n",
    "    'N': 42,\n",
    "    'H,P': 43\n",
    "}\n",
    "\n",
    "segr_mapping = {\n",
    "    'H': 44,\n",
    "    'P': 45,\n",
    "    'N': 46\n",
    "}\n",
    "\n",
    "# Asignar los valores a columnas nuevas\n",
    "df['SEU_Value'] = df['SEU'].map(seu_mapping)\n",
    "df['SET_Value'] = df['SET'].map(set_mapping)\n",
    "df['SEFI_Value'] = df['SEFI'].map(sefi_mapping)\n",
    "df['SEL_Value'] = df['SEL'].map(sel_mapping)\n",
    "df['SEB_Value'] = df['SEB'].map(seb_mapping)\n",
    "df['SEGR_Value'] = df['SEGR'].map(segr_mapping)\n",
    "\n",
    "# Encontrar los valores posibles de cada SEE\n",
    "see_columns = ['SEU_Value', 'SET_Value', 'SEFI_Value', 'SEL_Value', 'SEB_Value', 'SEGR_Value']\n",
    "for column in see_columns:\n",
    "    unique_combinations = df[[column]].apply(lambda row: '_'.join(map(str, row.dropna().values)), axis=1).unique()\n",
    "    unique_combinations = [combo for combo in unique_combinations if combo]\n",
    "\n",
    "    print(column, \"nº of elements: \", len(unique_combinations), '\\n combinations: ', unique_combinations)\n",
    "\n",
    "print(df)"
   ]
  },
  {
   "cell_type": "markdown",
   "metadata": {},
   "source": [
    "En este codigo se agrupan todos los SEE bajo una misma columna"
   ]
  },
  {
   "cell_type": "code",
   "execution_count": null,
   "metadata": {},
   "outputs": [],
   "source": [
    "df = pd.read_csv('data/radecs_complete_data.csv', delimiter=\";\")\n",
    "\n",
    "# Cada valor del SEE tiene un numero asignado\n",
    "seu_mapping = {\n",
    "    'Alpha': 0,\n",
    "    'e': 1,\n",
    "    'H': 2,\n",
    "    'H,P': 3,\n",
    "    'H,L': 4,\n",
    "    'H,N,P': 5,\n",
    "    'H,N': 6,\n",
    "    'L': 7,\n",
    "    'L,H': 8,\n",
    "    'N': 9,\n",
    "    'P': 10,\n",
    "    'P,Alpha': 11,\n",
    "    'P,N': 12,\n",
    "    'P,N,Alpha': 13\n",
    "}\n",
    "\n",
    "set_mapping = {\n",
    "    'H': 14,\n",
    "    'P': 15,\n",
    "    'H,N': 16,\n",
    "    'N': 17,\n",
    "    'H,P': 18,\n",
    "    'H,L': 19,\n",
    "    'L': 20,\n",
    "    'L,P': 21\n",
    "}\n",
    "\n",
    "sefi_mapping = {\n",
    "    'H': 22,\n",
    "    'P': 23,\n",
    "    'H,N': 24,\n",
    "    'N': 25,\n",
    "    'P,N': 26,\n",
    "    'H,P': 27,\n",
    "    'H,L': 28,\n",
    "    'H,N,P': 29,\n",
    "    'H,P,L': 30\n",
    "}\n",
    "\n",
    "sel_mapping = {\n",
    "    'H': 31,\n",
    "    'P': 32,\n",
    "    'H,N': 33,\n",
    "    'H,P': 34,\n",
    "    'N': 35,\n",
    "    'P,N': 36,\n",
    "    'H,L': 37,\n",
    "    'H,P,N': 38,\n",
    "    'L': 39\n",
    "}\n",
    "\n",
    "seb_mapping = {\n",
    "    'H': 40,\n",
    "    'P': 41,\n",
    "    'N': 42,\n",
    "    'H,P': 43\n",
    "}\n",
    "\n",
    "segr_mapping = {\n",
    "    'H': 44,\n",
    "    'P': 45,\n",
    "    'N': 46\n",
    "}\n",
    "\n",
    "# Añadir los posibles valores a una lista\n",
    "def map_see(row):\n",
    "    see_values = []\n",
    "    if row['SEU'] in seu_mapping:\n",
    "        see_values.append(f\"SEU:{row['SEU']}\")\n",
    "    if row['SET'] in set_mapping:\n",
    "        see_values.append(f\"SET:{row['SET']}\")\n",
    "    if row['SEFI'] in sefi_mapping:\n",
    "        see_values.append(f\"SEFI:{row['SEFI']}\")\n",
    "    if row['SEL'] in sel_mapping:\n",
    "        see_values.append(f\"SEL:{row['SEL']}\")\n",
    "    if row['SEB'] in seb_mapping:\n",
    "        see_values.append(f\"SEB:{row['SEB']}\")\n",
    "    if row['SEGR'] in segr_mapping:\n",
    "        see_values.append(f\"SEGR:{row['SEGR']}\")\n",
    "\n",
    "    return see_values\n",
    "\n",
    "# Crear una columna nueva con todos los posibles valores\n",
    "df['SEE'] = df.apply(map_see, axis=1)\n",
    "\n",
    "unique_df = df\n",
    "\n",
    "print(df.columns)\n"
   ]
  },
  {
   "cell_type": "markdown",
   "metadata": {},
   "source": [
    "En este codigo se reealiza one hot encoding para transformar las variables en categoricas"
   ]
  },
  {
   "cell_type": "code",
   "execution_count": null,
   "metadata": {},
   "outputs": [],
   "source": [
    "df = pd.read_csv('data/radecs_complete_data.csv', delimiter=\";\")\n",
    "# Realizar one hot encoding\n",
    "df_one_hot = pd.get_dummies(df, columns=['SEU', 'SET', 'SEFI', 'SEL', 'SEB', 'SEGR'])\n",
    "\n",
    "print(df_one_hot)"
   ]
  },
  {
   "cell_type": "markdown",
   "metadata": {},
   "source": [
    "Este codigo es para la generación de clusters"
   ]
  },
  {
   "cell_type": "code",
   "execution_count": null,
   "metadata": {},
   "outputs": [],
   "source": [
    "df = pd.read_csv('data/radecs_complete_data.csv', delimiter=\";\")\n",
    "\n",
    "# Se crea el vectorizador TF-IDF\n",
    "vectorizer = TfidfVectorizer(stop_words='english')\n",
    "X = vectorizer.fit_transform(df['Type'].fillna(''))  # Asegúrate de que no hay NaNs\n",
    "kmeans = KMeans(n_clusters=10, random_state=0)\n",
    "kmeans.fit(X)\n",
    "\n",
    "words = vectorizer.get_feature_names_out()\n",
    "\n",
    "centroids = kmeans.cluster_centers_\n",
    "\n",
    "# Se muestran las 10 palabras mas relevantes\n",
    "for i, centroid in enumerate(centroids):\n",
    "    print(f\"\\nCluster {i}:\")\n",
    "    sorted_words = sorted(zip(centroid, words), reverse=True, key=lambda x: x[0])\n",
    "\n",
    "    word_count = sum(1 for value, word in sorted_words if value > 0.01)\n",
    "    print(f\"Palabras totales con importancia > 0.01: {word_count}\")\n",
    "    \n",
    "    top_words = sorted_words[:3]\n",
    "    for score, word in top_words:\n",
    "        print(f\"{word} ({score:.2f})\")\n",
    "\n",
    "df_cluster = df"
   ]
  },
  {
   "cell_type": "code",
   "execution_count": null,
   "metadata": {},
   "outputs": [],
   "source": [
    "print(unique_df.columns)\n",
    "\n",
    "print(df_one_hot.columns)"
   ]
  },
  {
   "cell_type": "markdown",
   "metadata": {},
   "source": [
    "Se eliminan las columnas de los SEE en el df único"
   ]
  },
  {
   "cell_type": "code",
   "execution_count": null,
   "metadata": {},
   "outputs": [],
   "source": [
    "SEES_list = ['SEU','SET','SEFI','SEL','SEB','SEGR']\n",
    "\n",
    "\n",
    "for see in SEES_list:\n",
    "    unique_df.drop(see, axis=1, inplace=True)\n"
   ]
  },
  {
   "cell_type": "markdown",
   "metadata": {},
   "source": [
    "Se generan los archivos excel para todos los df creados"
   ]
  },
  {
   "cell_type": "code",
   "execution_count": null,
   "metadata": {},
   "outputs": [],
   "source": [
    "unique_df.to_csv('radecs_unique_label.csv', index=False, sep=',', encoding='utf-8')\n",
    "\n",
    "df_one_hot.to_csv('radecs_one_hot_label.csv', index=False, sep=',', encoding='utf-8')\n",
    "\n",
    "df_cluster.to_csv('radecs_cluster.csv', index=False, sep=',', encoding='utf-8')"
   ]
  }
 ],
 "metadata": {
  "kernelspec": {
   "display_name": "Python 3",
   "language": "python",
   "name": "python3"
  },
  "language_info": {
   "codemirror_mode": {
    "name": "ipython",
    "version": 3
   },
   "file_extension": ".py",
   "mimetype": "text/x-python",
   "name": "python",
   "nbconvert_exporter": "python",
   "pygments_lexer": "ipython3",
   "version": "3.10.11"
  }
 },
 "nbformat": 4,
 "nbformat_minor": 2
}
